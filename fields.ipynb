{
 "cells": [
  {
   "cell_type": "code",
   "execution_count": 1,
   "metadata": {},
   "outputs": [
    {
     "name": "stdout",
     "output_type": "stream",
     "text": [
      "Collecting astroplan\n",
      "\u001b[?25l  Downloading https://files.pythonhosted.org/packages/a0/10/c292c84060d1c5cdf9f22b11b1162714a3c725d8ef365c484596efdd938c/astroplan-0.4.tar.gz (266kB)\n",
      "\u001b[K    100% |████████████████████████████████| 276kB 9.7MB/s eta 0:00:01\n",
      "\u001b[?25hRequirement already satisfied: numpy>=1.10 in /home/nbuser/anaconda3_501/lib/python3.6/site-packages (from astroplan) (1.15.0)\n",
      "Requirement already satisfied: astropy>=1.3 in /home/nbuser/anaconda3_501/lib/python3.6/site-packages (from astroplan) (2.0.2)\n",
      "Requirement already satisfied: pytz in /home/nbuser/anaconda3_501/lib/python3.6/site-packages (from astroplan) (2017.2)\n",
      "Requirement already satisfied: pytest>=2.8 in /home/nbuser/anaconda3_501/lib/python3.6/site-packages (from astropy>=1.3->astroplan) (3.2.1)\n",
      "Requirement already satisfied: py>=1.4.33 in /home/nbuser/anaconda3_501/lib/python3.6/site-packages (from pytest>=2.8->astropy>=1.3->astroplan) (1.4.34)\n",
      "Requirement already satisfied: setuptools in /home/nbuser/anaconda3_501/lib/python3.6/site-packages (from pytest>=2.8->astropy>=1.3->astroplan) (40.0.0)\n",
      "Building wheels for collected packages: astroplan\n",
      "  Running setup.py bdist_wheel for astroplan ... \u001b[?25ldone\n",
      "\u001b[?25h  Stored in directory: /home/nbuser/.cache/pip/wheels/ea/4d/8e/765bbe02bf38e8bb2e7f400d30b1e1483c264f60776807fe2b\n",
      "Successfully built astroplan\n",
      "Installing collected packages: astroplan\n",
      "Successfully installed astroplan-0.4\n"
     ]
    }
   ],
   "source": [
    "!pip install astroplan"
   ]
  },
  {
   "cell_type": "code",
   "execution_count": 2,
   "metadata": {},
   "outputs": [
    {
     "name": "stderr",
     "output_type": "stream",
     "text": [
      "/home/nbuser/anaconda3_501/lib/python3.6/importlib/_bootstrap.py:219: RuntimeWarning: numpy.dtype size changed, may indicate binary incompatibility. Expected 96, got 88\n",
      "  return f(*args, **kwds)\n",
      "/home/nbuser/anaconda3_501/lib/python3.6/importlib/_bootstrap.py:219: RuntimeWarning: numpy.dtype size changed, may indicate binary incompatibility. Expected 96, got 88\n",
      "  return f(*args, **kwds)\n"
     ]
    }
   ],
   "source": [
    "import numpy as np\n",
    "import matplotlib.pyplot as plt\n",
    "from astropy import units as u\n",
    "from astropy.coordinates import SkyCoord\n",
    "from astropy.coordinates import EarthLocation\n",
    "from astropy.time import Time"
   ]
  },
  {
   "cell_type": "code",
   "execution_count": 4,
   "metadata": {},
   "outputs": [
    {
     "name": "stdout",
     "output_type": "stream",
     "text": [
      "Number of fields:  108\n"
     ]
    },
    {
     "data": {
      "text/plain": [
       "Text(0,0.5,'DEC (deg)')"
      ]
     },
     "execution_count": 4,
     "metadata": {},
     "output_type": "execute_result"
    },
    {
     "data": {
      "image/png": "[encoded data removed]",
      "text/plain": [
       "<matplotlib.figure.Figure at 0x7fc535b8dc18>"
      ]
     },
     "metadata": {},
     "output_type": "display_data"
    }
   ],
   "source": [
    "glat = 0.0\n",
    "glon_start = 80\n",
    "glon_end = 167\n",
    "step = 0.8\n",
    "\n",
    "print('Number of fields: ',int((glon_end-glon_start)/step))\n",
    "\n",
    "ra = np.zeros(100)\n",
    "dec = np.zeros(100)\n",
    "glon = np.arange(glon_start,glon_end,step)\n",
    "\n",
    "fields = SkyCoord(glon,glat,frame='galactic',unit='deg')\n",
    "fields_ra = fields.fk5.ra\n",
    "fields_dec = fields.fk5.dec\n",
    "\n",
    "plt.scatter(fields_ra,fields_dec)\n",
    "plt.plot([0.0,360.0],[63.0,63.0],'r--')\n",
    "plt.plot([0.0,360.0],[40.0,40.0],'r--')\n",
    "plt.xlabel('RA (deg)')\n",
    "plt.ylabel('DEC (deg)')"
   ]
  },
  {
   "cell_type": "code",
   "execution_count": 5,
   "metadata": {},
   "outputs": [
    {
     "name": "stderr",
     "output_type": "stream",
     "text": [
      "/home/nbuser/anaconda3_501/lib/python3.6/importlib/_bootstrap.py:219: RuntimeWarning: numpy.dtype size changed, may indicate binary incompatibility. Expected 96, got 88\n",
      "  return f(*args, **kwds)\n"
     ]
    },
    {
     "name": "stdout",
     "output_type": "stream",
     "text": [
      "Downloading http://maia.usno.navy.mil/ser7/finals2000A.all [Done]\n"
     ]
    }
   ],
   "source": [
    "from astroplan import Observer, FixedTarget\n",
    "from astroplan import (AltitudeConstraint, AirmassConstraint, AtNightConstraint)\n",
    "from astroplan.plots import plot_airmass\n",
    "from astroplan import is_observable, is_always_observable, months_observable\n",
    "from astroplan import download_IERS_A\n",
    "download_IERS_A()"
   ]
  },
  {
   "cell_type": "code",
   "execution_count": 7,
   "metadata": {},
   "outputs": [],
   "source": [
    "longitude = -2.0\n",
    "latitude = +56.0\n",
    "elevation = 30.0 * u.m\n",
    "stand = EarthLocation.from_geodetic(longitude, latitude, elevation)\n",
    "jgt = Observer(name='jgt',location=stand)\n",
    "time = Time('2018-08-16 22:00:00')\n",
    "constraints = [AltitudeConstraint(30*u.deg, 80*u.deg),AirmassConstraint(2), AtNightConstraint.twilight_civil()]"
   ]
  },
  {
   "cell_type": "code",
   "execution_count": 10,
   "metadata": {},
   "outputs": [
    {
     "data": {
      "text/plain": [
       "(0.9, 2.5)"
      ]
     },
     "execution_count": 10,
     "metadata": {},
     "output_type": "execute_result"
    },
    {
     "data": {
      "image/png": "[encoded data removed]",
      "text/plain": [
       "<matplotlib.figure.Figure at 0x7fc535ab7f98>"
      ]
     },
     "metadata": {},
     "output_type": "display_data"
    }
   ],
   "source": [
    "airmass = np.zeros(len(fields))\n",
    "for i in np.arange(len(fields)):\n",
    "     airmass[i] = jgt.altaz(time, fields[i]).secz\n",
    "plt.scatter(fields_ra,airmass)\n",
    "plt.ylim(0.9,2.5)"
   ]
  },
  {
   "cell_type": "code",
   "execution_count": 12,
   "metadata": {},
   "outputs": [
    {
     "name": "stdout",
     "output_type": "stream",
     "text": [
      "Best field:  21h03m59.6345s 46d51m22.8864s  at airmass  1.0445577049216206\n"
     ]
    }
   ],
   "source": [
    "min_airmass = np.argmin(airmass)\n",
    "bestfield_ra = fields_ra[min_airmass]\n",
    "bestfield_dec = fields_dec[min_airmass]\n",
    "best_field_string = bestfield_ra.to_string(u.hour) + ' ' + bestfield_dec.to_string(u.degree)\n",
    "\n",
    "print('Best field: ',best_field_string , ' at airmass ',airmass[min_airmass])"
   ]
  },
  {
   "cell_type": "code",
   "execution_count": null,
   "metadata": {},
   "outputs": [],
   "source": []
  }
 ],
 "metadata": {
  "kernelspec": {
   "display_name": "Python 3.6",
   "language": "python",
   "name": "python36"
  },
  "language_info": {
   "codemirror_mode": {
    "name": "ipython",
    "version": 3
   },
   "file_extension": ".py",
   "mimetype": "text/x-python",
   "name": "python",
   "nbconvert_exporter": "python",
   "pygments_lexer": "ipython3",
   "version": "3.6.3"
  }
 },
 "nbformat": 4,
 "nbformat_minor": 2
}
