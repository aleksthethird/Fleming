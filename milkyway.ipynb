{
 "cells": [
  {
   "cell_type": "code",
   "execution_count": 1,
   "metadata": {},
   "outputs": [
    {
     "name": "stderr",
     "output_type": "stream",
     "text": [
      "/home/nbuser/anaconda3_501/lib/python3.6/importlib/_bootstrap.py:219: RuntimeWarning: numpy.dtype size changed, may indicate binary incompatibility. Expected 96, got 88\n",
      "  return f(*args, **kwds)\n",
      "/home/nbuser/anaconda3_501/lib/python3.6/importlib/_bootstrap.py:219: RuntimeWarning: numpy.dtype size changed, may indicate binary incompatibility. Expected 96, got 88\n",
      "  return f(*args, **kwds)\n"
     ]
    }
   ],
   "source": [
    "import numpy as np\n",
    "import matplotlib.pyplot as plt\n",
    "from datetime import datetime\n",
    "\n",
    "from astropy.coordinates import SkyCoord\n",
    "from astropy import units as u\n",
    "from astropy.time import Time\n",
    "from astropy.coordinates import solar_system_ephemeris, EarthLocation\n",
    "from astropy.coordinates import get_body_barycentric, get_body, get_moon"
   ]
  },
  {
   "cell_type": "markdown",
   "metadata": {},
   "source": [
    "Make up a list of observing dates, get ra of the Sun, and offset to the other side of the sky. (need to find out how large the shadow of the Earth really is)"
   ]
  },
  {
   "cell_type": "code",
   "execution_count": 4,
   "metadata": {},
   "outputs": [
    {
     "name": "stdout",
     "output_type": "stream",
     "text": [
      "Right ascension:  315\n"
     ]
    }
   ],
   "source": [
    "t = Time(['2018-08-16'])\n",
    "offset = 170\n",
    "loc = EarthLocation.of_site('greenwich') \n",
    "for i in t:\n",
    "  with solar_system_ephemeris.set('builtin'):\n",
    "    sonne = get_body('sun', i, loc) \n",
    "  radeg = int(sonne.ra.degree) + offset\n",
    "  if (radeg>360):\n",
    "    radeg = radeg - 360\n",
    "  print('Right ascension: ', radeg)"
   ]
  },
  {
   "cell_type": "markdown",
   "metadata": {},
   "source": [
    "Find out where the galactic plane is at this right ascension. Gives sensible outcomes for mid August to late December, which fits well to our autumn semester. (Run this camera for half a year?)"
   ]
  },
  {
   "cell_type": "code",
   "execution_count": 11,
   "metadata": {},
   "outputs": [
    {
     "name": "stdout",
     "output_type": "stream",
     "text": [
      "62.0\n"
     ]
    }
   ],
   "source": [
    "radeg = 360.0\n",
    "decdeg = 65.0\n",
    "c = SkyCoord(ra=radeg*u.degree, dec=decdeg*u.degree)\n",
    "cgal = c.galactic\n",
    "cgallat = cgal.b.degree\n",
    "while (cgallat>0.0):\n",
    "    decdeg = decdeg-1.0\n",
    "    c = SkyCoord(ra=radeg*u.degree, dec=decdeg*u.degree)\n",
    "    cgal = c.galactic\n",
    "    cgallat = cgal.b.degree\n",
    "print(decdeg)\n",
    "if decdeg<30.0:\n",
    "    print('adjust offset')"
   ]
  },
  {
   "cell_type": "code",
   "execution_count": null,
   "metadata": {},
   "outputs": [],
   "source": []
  }
 ],
 "metadata": {
  "kernelspec": {
   "display_name": "Python 3.6",
   "language": "python",
   "name": "python36"
  },
  "language_info": {
   "codemirror_mode": {
    "name": "ipython",
    "version": 3
   },
   "file_extension": ".py",
   "mimetype": "text/x-python",
   "name": "python",
   "nbconvert_exporter": "python",
   "pygments_lexer": "ipython3",
   "version": "3.6.3"
  }
 },
 "nbformat": 4,
 "nbformat_minor": 2
}
